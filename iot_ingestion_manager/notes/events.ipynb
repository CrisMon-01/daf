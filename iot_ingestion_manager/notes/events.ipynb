{
 "cells": [
  {
   "cell_type": "markdown",
   "metadata": {},
   "source": [
    "# This notebook shows how to manage the events table with Spark"
   ]
  },
  {
   "cell_type": "markdown",
   "metadata": {},
   "source": [
    "We first need to the kudu jars to the spark session"
   ]
  },
  {
   "cell_type": "code",
   "execution_count": 1,
   "metadata": {},
   "outputs": [
    {
     "data": {
      "text/html": [
       "Current session configs: <tt>{'conf': {'spark.jars.packages': 'org.apache.kudu:kudu-spark2_2.11:1.4.0'}, 'kind': 'spark'}</tt><br>"
      ],
      "text/plain": [
       "<IPython.core.display.HTML object>"
      ]
     },
     "metadata": {},
     "output_type": "display_data"
    },
    {
     "data": {
      "text/html": [
       "No active sessions."
      ],
      "text/plain": [
       "<IPython.core.display.HTML object>"
      ]
     },
     "metadata": {},
     "output_type": "display_data"
    }
   ],
   "source": [
    "%%configure -f\n",
    "{ \"conf\": {\"spark.jars.packages\": \"org.apache.kudu:kudu-spark2_2.11:1.4.0\" }}"
   ]
  },
  {
   "cell_type": "code",
   "execution_count": 2,
   "metadata": {},
   "outputs": [
    {
     "name": "stdout",
     "output_type": "daf.stream",
     "text": [
      "Starting Spark application\n"
     ]
    },
    {
     "data": {
      "text/html": [
       "<table>\n",
       "<tr><th>ID</th><th>YARN Application ID</th><th>Kind</th><th>State</th><th>Spark UI</th><th>Driver log</th><th>Current session?</th></tr><tr><td>3</td><td>application_1517827649978_5175</td><td>spark</td><td>idle</td><td><a target=\"_blank\" href=\"https://master.platform.daf.gov.it:8090/proxy/application_1517827649978_5175/\">Link</a></td><td><a target=\"_blank\" href=\"https://slave4.platform.daf.gov.it:8044/node/containerlogs/container_1517827649978_5175_01_000001/fabiana\">Link</a></td><td>✔</td></tr></table>"
      ],
      "text/plain": [
       "<IPython.core.display.HTML object>"
      ]
     },
     "metadata": {},
     "output_type": "display_data"
    },
    {
     "name": "stdout",
     "output_type": "daf.stream",
     "text": [
      "SparkSession available as 'spark'.\n",
      "res1: org.apache.spark.SparkContext = org.apache.spark.SparkContext@58c7cef7"
     ]
    }
   ],
   "source": [
    "sc"
   ]
  },
  {
   "cell_type": "code",
   "execution_count": 5,
   "metadata": {},
   "outputs": [
    {
     "name": "stdout",
     "output_type": "daf.stream",
     "text": [
      "df1: org.apache.spark.sql.DataFrame = [source: string, ts: bigint ... 11 more fields]"
     ]
    }
   ],
   "source": [
    "import org.apache.kudu.spark.kudu._\n",
    "import org.apache.spark.sql.functions._\n",
    "\n",
    "//we need to define a udf function for converting two strings into a map\n",
    "val asMap = udf((keys:String, values: String) => keys.split(\"#\").zip(values.split(\"#\")).toMap)\n",
    "\n",
    "//then we define a first dataframe df1 associated to the kudu table\n",
    "val df1 = spark.sqlContext.read.options(Map(\"kudu.master\" -> \"master:7051\",\"kudu.table\" -> \"Events3\")).kudu\n",
    "\n",
    "//the next dataframe contains an additional column of type Map containing a map for the two arrays: keys and values\n",
    "//val df2 = df1.withColumn(\"tags\", asMap($\"attributesKeys\",$\"attributesValues\"))"
   ]
  },
  {
   "cell_type": "code",
   "execution_count": 69,
   "metadata": {},
   "outputs": [
    {
     "name": "stdout",
     "output_type": "daf.stream",
     "text": [
      "source: org.apache.spark.sql.DataFrame = [source: string]"
     ]
    }
   ],
   "source": [
    "val source = df1.select(\"source\")"
   ]
  },
  {
   "cell_type": "code",
   "execution_count": 70,
   "metadata": {},
   "outputs": [
    {
     "name": "stdout",
     "output_type": "daf.stream",
     "text": [
      "res: Array[org.apache.spark.sql.Row] = Array([http://services.infoblu.it/BITW/data?id=teamd26lkc], [http://opendata.5t.torino.it/get_fdt], [http://159.122.135.24/daf/test/traffic_events?token=progettoDAF], [http://opendata.5t.torino.it/get_pk])"
     ]
    }
   ],
   "source": [
    "val res = source.distinct.collect\n"
   ]
  },
  {
   "cell_type": "code",
   "execution_count": 6,
   "metadata": {},
   "outputs": [
    {
     "name": "stdout",
     "output_type": "daf.stream",
     "text": [
      "root\n",
      " |-- source: string (nullable = false)\n",
      " |-- ts: long (nullable = false)\n",
      " |-- metric_id: string (nullable = false)\n",
      " |-- version: long (nullable = false)\n",
      " |-- id: string (nullable = true)\n",
      " |-- temporal_granularity: string (nullable = true)\n",
      " |-- event_certainty: double (nullable = false)\n",
      " |-- event_type_id: integer (nullable = false)\n",
      " |-- event_annotation: string (nullable = true)\n",
      " |-- location: string (nullable = true)\n",
      " |-- metric: double (nullable = false)\n",
      " |-- attributesKeys: string (nullable = true)\n",
      " |-- attributesValues: string (nullable = true)"
     ]
    }
   ],
   "source": [
    "df1.printSchema()"
   ]
  },
  {
   "cell_type": "code",
   "execution_count": 73,
   "metadata": {},
   "outputs": [
    {
     "name": "stdout",
     "output_type": "daf.stream",
     "text": [
      "+--------------------+--------+\n",
      "|              source|   count|\n",
      "+--------------------+--------+\n",
      "|http://services.i...|67645216|\n",
      "|http://opendata.5...|  145598|\n",
      "|http://159.122.13...|     235|\n",
      "|http://opendata.5...|   98328|\n",
      "+--------------------+--------+"
     ]
    }
   ],
   "source": [
    "source.groupBy(\"source\").count().show()"
   ]
  },
  {
   "cell_type": "code",
   "execution_count": 22,
   "metadata": {},
   "outputs": [
    {
     "name": "stdout",
     "output_type": "daf.stream",
     "text": [
      "+-------------+-----+\n",
      "|           ts|count|\n",
      "+-------------+-----+\n",
      "|1519994000000| 9088|\n",
      "|1520003960000| 9030|\n",
      "|1520008880000| 8926|\n",
      "|1520030180000| 8063|\n",
      "|1520047520000| 4909|\n",
      "|1520056100000| 5430|\n",
      "|1520074040000| 8881|\n",
      "|1520113280000| 8296|\n",
      "|1520093840000| 9280|\n",
      "|1520121800000| 8176|\n",
      "|1520117720000| 7815|\n",
      "|1520131400000| 6328|\n",
      "|1520152640000| 6832|\n",
      "|1520168000000| 9444|\n",
      "|1520176220000| 9495|\n",
      "|1520176700000| 9576|\n",
      "|1520194340000| 8737|\n",
      "|1520207240000| 7401|\n",
      "|1520243180000| 8817|\n",
      "|1519995680000| 9026|\n",
      "+-------------+-----+\n",
      "only showing top 20 rows"
     ]
    }
   ],
   "source": [
    "df1.filter(\"source == 'http://services.infoblu.it/BITW/data?id=teamd26lkc'\").groupBy(\"ts\").count().show()"
   ]
  },
  {
   "cell_type": "code",
   "execution_count": 45,
   "metadata": {},
   "outputs": [
    {
     "name": "stdout",
     "output_type": "daf.stream",
     "text": [
      "res42: org.apache.spark.sql.Dataset[org.apache.spark.sql.Row] = [source: string, ts: bigint ... 11 more fields]"
     ]
    }
   ],
   "source": [
    "df1.filter(\"source == 'http://services.infoblu.it/BITW/data?id=teamd26lkc'\").filter(\"ts == '1519994000000'\")"
   ]
  },
  {
   "cell_type": "code",
   "execution_count": 51,
   "metadata": {},
   "outputs": [
    {
     "name": "stdout",
     "output_type": "daf.stream",
     "text": [
      "df_sample_with_attributes: org.apache.spark.sql.DataFrame = [source: string, ts: bigint ... 12 more fields]"
     ]
    }
   ],
   "source": [
    "val df_sample = df1.filter(\"source == 'http://services.infoblu.it/BITW/data?id=teamd26lkc' and ts == '1519994000000'\")\n",
    "val df_sample_with_attributes = df_sample.withColumn(\"tags\", asMap($\"attributesKeys\",$\"attributesValues\"))"
   ]
  },
  {
   "cell_type": "code",
   "execution_count": 55,
   "metadata": {},
   "outputs": [
    {
     "name": "stdout",
     "output_type": "daf.stream",
     "text": [
      "res50: Array[org.apache.spark.sql.Row] = Array([http://services.infoblu.it/BITW/data?id=teamd26lkc,1519994000000,it.gov.daf.kafkaProducers.eventConverters.InfoBluTrafficConverter.1519994000000.0,1,null,1.0,0,null,null,45.45764-9.12226,[B@75b8ecdc,srcCoordinates#dstCoordinates#sourceCode#tags#endCode#offset#metric#value,45.45764-9.12226#45.45869-9.12621#41149#sourceCode,endCode,offset#41150#1#speed#29,Map(srcCoordinates -> 45.45764-9.12226, dstCoordinates -> 45.45869-9.12621, sourceCode -> 41149, tags -> sourceCode,endCode,offset, endCode -> 41150, offset -> 1, metric -> speed, value -> 29)], [http://services.infoblu.it/BITW/data?id=teamd26lkc,1519994000000,it.gov.daf.kafkaProducers.eventConverters.InfoBluTrafficConverter.1519994000000.1,1,null,1.0,0,null,null,45.46137-9.13692,[B@77b9826..."
     ]
    }
   ],
   "source": [
    "df_sample_with_attributes.take(10)"
   ]
  },
  {
   "cell_type": "code",
   "execution_count": 56,
   "metadata": {},
   "outputs": [
    {
     "name": "stderr",
     "output_type": "daf.stream",
     "text": [
      "<console>:29: error: value currentMillisec is not a member of object System\n",
      "       val a = System.currentMillisec\n",
      "                      ^\n"
     ]
    }
   ],
   "source": [
    "val a = SystemE"
   ]
  },
  {
   "cell_type": "code",
   "execution_count": 9,
   "metadata": {},
   "outputs": [],
   "source": [
    "%%cleanup -f"
   ]
  },
  {
   "cell_type": "code",
   "execution_count": null,
   "metadata": {},
   "outputs": [],
   "source": []
  }
 ],
 "metadata": {
  "kernelspec": {
   "display_name": "Spark",
   "language": "",
   "name": "sparkkernel"
  },
  "language_info": {
   "codemirror_mode": "text/x-scala",
   "mimetype": "text/x-scala",
   "name": "scala",
   "pygments_lexer": "scala"
  }
 },
 "nbformat": 4,
 "nbformat_minor": 2
}
